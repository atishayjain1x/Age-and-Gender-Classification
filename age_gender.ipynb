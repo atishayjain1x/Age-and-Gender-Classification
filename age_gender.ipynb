{
  "nbformat": 4,
  "nbformat_minor": 0,
  "metadata": {
    "accelerator": "GPU",
    "colab": {
      "name": "age_gender1.ipynb",
      "provenance": [],
      "collapsed_sections": [],
      "mount_file_id": "1QL_0Pgna1e5O_qRqGFiSabm5ZtkbztgG",
      "authorship_tag": "ABX9TyNfV5aspTAjMgVtvbpUxx2r",
      "include_colab_link": true
    },
    "kernelspec": {
      "display_name": "Python 3",
      "name": "python3"
    }
  },
  "cells": [
    {
      "cell_type": "markdown",
      "metadata": {
        "id": "view-in-github",
        "colab_type": "text"
      },
      "source": [
        "<a href=\"https://colab.research.google.com/github/atishayjain1x/Age-and-Gender-Classification/blob/main/age_gender.ipynb\" target=\"_parent\"><img src=\"https://colab.research.google.com/assets/colab-badge.svg\" alt=\"Open In Colab\"/></a>"
      ]
    },
    {
      "cell_type": "code",
      "metadata": {
        "colab": {
          "base_uri": "https://localhost:8080/"
        },
        "id": "pPATKmKbz5wS",
        "outputId": "9739842c-e38f-4e48-faf0-d9fc5d1629f3"
      },
      "source": [
        " from google.colab import drive\n",
        "drive.mount('/content/drive')"
      ],
      "execution_count": null,
      "outputs": [
        {
          "output_type": "stream",
          "text": [
            "Drive already mounted at /content/drive; to attempt to forcibly remount, call drive.mount(\"/content/drive\", force_remount=True).\n"
          ],
          "name": "stdout"
        }
      ]
    },
    {
      "cell_type": "code",
      "metadata": {
        "id": "SOVNY2x8Etz1"
      },
      "source": [
        ""
      ],
      "execution_count": null,
      "outputs": []
    },
    {
      "cell_type": "code",
      "metadata": {
        "colab": {
          "base_uri": "https://localhost:8080/"
        },
        "id": "ViDsGl-LGipz",
        "outputId": "98b9a7a9-1d30-488b-dbd5-76bab948fa5f"
      },
      "source": [
        "folder=\"drive/My Drive/ezyzip.zip\"\n",
        "!unzip \"/content/drive/My Drive/ezyzip.zip\" -d \"/content\""
      ],
      "execution_count": null,
      "outputs": [
        {
          "output_type": "stream",
          "text": [
            "Archive:  /content/drive/My Drive/ezyzip.zip\n",
            "replace /content/UTKFace/100_0_0_20170112213500903.jpg.chip.jpg? [y]es, [n]o, [A]ll, [N]one, [r]ename: None\n"
          ],
          "name": "stdout"
        }
      ]
    },
    {
      "cell_type": "code",
      "metadata": {
        "id": "QqlcD7x6Yjcd"
      },
      "source": [
        "\n",
        "import tensorflow as tf\n",
        "from tensorflow.keras.layers import Dropout\n",
        "from tensorflow.keras.layers import Flatten,BatchNormalization\n",
        "from tensorflow.keras.layers import Dense, MaxPooling2D,Conv2D\n",
        "from tensorflow.keras.layers import Input,Activation,Add\n",
        "from tensorflow.keras.models import Model\n",
        "from tensorflow.keras.regularizers import l2\n",
        "from tensorflow.keras.optimizers import Adam\n",
        "from tensorflow.keras.preprocessing.image import img_to_array\n",
        "from IPython.display import display, Javascript, Image\n",
        "from google.colab.output import eval_js\n",
        "from base64 import b64decode, b64encode\n",
        "import cv2\n",
        "import numpy as np\n",
        "import PIL\n",
        "import io\n",
        "import html\n",
        "import time\n",
        "import random\n",
        "from tensorflow.keras.preprocessing.image import ImageDataGenerator\n",
        "\n",
        "\n"
      ],
      "execution_count": null,
      "outputs": []
    },
    {
      "cell_type": "code",
      "metadata": {
        "id": "-cHg8KSdHGhQ"
      },
      "source": [
        "p=\"/content/UTKFace\"\n",
        "import os\n",
        "files=os.listdir(p)\n",
        "\n",
        "def newlabel(age):\n",
        "\n",
        "    if 0<= age <= 2:\n",
        "        return 0\n",
        "    elif 3 <= age <= 8:\n",
        "        return 1\n",
        "    elif 9 <= age <= 14:\n",
        "        return 2\n",
        "    elif 15 <= age <= 20:\n",
        "        return 3\n",
        "    elif 21 <= age <= 27:\n",
        "        return 4\n",
        "    elif 28 <= age <= 35:\n",
        "        return 5\n",
        "    elif 36<=age<=45:\n",
        "        return 6\n",
        "    elif 46<=age<=59:\n",
        "        return 7\n",
        "    else:\n",
        "        return 8\n",
        "from google.colab.patches import cv2_imshow\n",
        "from tensorflow.keras.utils import to_categorical\n",
        "import cv2\n",
        "ages=[]\n",
        "genders=[]\n",
        "images=[]\n",
        "random.shuffle(files)\n",
        "\n",
        "for f in files:\n",
        "  age=int(f.split('_')[0])\n",
        "  gender=int(f.split('_')[1])\n",
        "  path=p+'/'+f\n",
        "  image=cv2.imread(path)\n",
        "  image =cv2.cvtColor(image, cv2.COLOR_BGR2RGB)\n",
        "  \n",
        "  image=cv2.resize(image,(48,48))\n",
        "  images.append(image)\n",
        "  ages.append(newlabel(age))\n",
        "  genders.append(gender)"
      ],
      "execution_count": null,
      "outputs": []
    },
    {
      "cell_type": "code",
      "metadata": {
        "id": "qt3w8Rwfov42"
      },
      "source": [
        "import numpy as np\n",
        "from sklearn.model_selection import train_test_split\n",
        "\n",
        "images_f=np.array(images)\n",
        "genders=np.array(genders)\n",
        "ages=np.array(ages)\n",
        "\n",
        "i=0\n",
        "\n",
        "p=[]\n",
        "q=[]\n",
        "labels=[]\n",
        "while (i<len(ages)):\n",
        "  l=to_categorical(ages[i],9)\n",
        "  m=to_categorical(genders[i],2)\n",
        "  p.append(l)\n",
        "  q.append(m)\n",
        "  i=i+1\n",
        "p=np.array(p).astype(np.float32) \n",
        "q=np.array(q).astype(np.float32)\n",
        "\n",
        "labels=[q,p]\n"
      ],
      "execution_count": null,
      "outputs": []
    },
    {
      "cell_type": "code",
      "metadata": {
        "id": "-TWrVegjpd2c",
        "colab": {
          "base_uri": "https://localhost:8080/"
        },
        "outputId": "ee731baa-4ebb-4502-9549-9dcb0b92261f"
      },
      "source": [
        "for i in range(2):\n",
        "    imageset=images_f/255\n",
        "    imageset=np.array(imageset).astype(np.float32)\n",
        "    xtrain,xtest,ytrain,ytest=train_test_split(imageset,labels[i],test_size=0.25)\n",
        "    aug = ImageDataGenerator(rotation_range=25, width_shift_range=0.1,\n",
        "                         height_shift_range=0.1, shear_range=0.2, zoom_range=0.2,\n",
        "                         horizontal_flip=True, fill_mode=\"nearest\")\n",
        "\n",
        "    inputs=Input((48, 48, 3))\n",
        "    c1=Conv2D(32,kernel_size=3, activation=\"relu\")(inputs)\n",
        "    m1=MaxPooling2D(2,2)(c1)\n",
        "    c2=Conv2D(64,kernel_size=3, activation=\"relu\")(m1)\n",
        "    m2=MaxPooling2D(2,2)(c2)\n",
        "    m2=BatchNormalization()(m2)\n",
        "    c3=Conv2D(128,kernel_size=3, activation=\"relu\")(m2)\n",
        "    m3=MaxPooling2D(2,2)(c3)\n",
        "    c4=Conv2D(256,kernel_size=3, activation=\"relu\")(m3)\n",
        "    m4=MaxPooling2D(2,2)(c4)\n",
        "    m4=BatchNormalization()(m4)\n",
        "\n",
        "    f=(Flatten())(m4)\n",
        "    de2=Dense(units=256,activation='relu')(f)        \n",
        "    de3=Dense(units=64,activation='relu')(de2)\n",
        "    d2=BatchNormalization()(de3)\n",
        "    o1=Dense(2,activation=\"sigmoid\",name='sex_out')(d2)\n",
        "    o2=Dense(units=9,activation=\"softmax\",name='age_out')(d2)\n",
        "    out=[o1,o2]\n",
        "    ls=[\"binary_crossentropy\",\"categorical_crossentropy\"]\n",
        "    model = Model(inputs=[inputs], outputs=[out[i]])\n",
        "    callback = tf.keras.callbacks.EarlyStopping(monitor='loss', patience=3)\n",
        "    model.compile(loss=ls[i], optimizer=\"Adam\",metrics=[\"accuracy\"])\n",
        "    model.fit(aug.flow(xtrain,ytrain,batch_size=250),validation_data=(xtest,ytest),epochs=60,callbacks=[callback])\n",
        "    if i==0:  \n",
        "      model.save(\"gender_detect_model\")\n",
        "    else:\n",
        "      model.save(\"age_detect_model\")\n",
        "    s=model.evaluate(xtest,ytest)\n",
        "    print(s)  "
      ],
      "execution_count": null,
      "outputs": [
        {
          "output_type": "stream",
          "text": [
            "Epoch 1/60\n",
            "72/72 [==============================] - 14s 184ms/step - loss: 0.5467 - accuracy: 0.7282 - val_loss: 0.6653 - val_accuracy: 0.5240\n",
            "Epoch 2/60\n",
            "72/72 [==============================] - 13s 182ms/step - loss: 0.4306 - accuracy: 0.7980 - val_loss: 0.6119 - val_accuracy: 0.6575\n",
            "Epoch 3/60\n",
            "72/72 [==============================] - 13s 182ms/step - loss: 0.3874 - accuracy: 0.8215 - val_loss: 0.6625 - val_accuracy: 0.5473\n",
            "Epoch 4/60\n",
            "72/72 [==============================] - 13s 179ms/step - loss: 0.3586 - accuracy: 0.8405 - val_loss: 0.6577 - val_accuracy: 0.5569\n",
            "Epoch 5/60\n",
            "72/72 [==============================] - 13s 182ms/step - loss: 0.3446 - accuracy: 0.8431 - val_loss: 0.6137 - val_accuracy: 0.6420\n",
            "Epoch 6/60\n",
            "72/72 [==============================] - 14s 188ms/step - loss: 0.3263 - accuracy: 0.8532 - val_loss: 0.4086 - val_accuracy: 0.7984\n",
            "Epoch 7/60\n",
            "72/72 [==============================] - 13s 185ms/step - loss: 0.3172 - accuracy: 0.8554 - val_loss: 0.3498 - val_accuracy: 0.8382\n",
            "Epoch 8/60\n",
            "72/72 [==============================] - 14s 190ms/step - loss: 0.3221 - accuracy: 0.8560 - val_loss: 0.6019 - val_accuracy: 0.6648\n",
            "Epoch 9/60\n",
            "72/72 [==============================] - 13s 185ms/step - loss: 0.2932 - accuracy: 0.8676 - val_loss: 0.3686 - val_accuracy: 0.8309\n",
            "Epoch 10/60\n",
            "72/72 [==============================] - 13s 185ms/step - loss: 0.2922 - accuracy: 0.8692 - val_loss: 0.3113 - val_accuracy: 0.8650\n",
            "Epoch 11/60\n",
            "72/72 [==============================] - 13s 186ms/step - loss: 0.2895 - accuracy: 0.8708 - val_loss: 0.3433 - val_accuracy: 0.8493\n",
            "Epoch 12/60\n",
            "72/72 [==============================] - 13s 184ms/step - loss: 0.2831 - accuracy: 0.8745 - val_loss: 0.4202 - val_accuracy: 0.7894\n",
            "Epoch 13/60\n",
            "72/72 [==============================] - 13s 186ms/step - loss: 0.2785 - accuracy: 0.8768 - val_loss: 0.2716 - val_accuracy: 0.8789\n",
            "Epoch 14/60\n",
            "72/72 [==============================] - 13s 185ms/step - loss: 0.2694 - accuracy: 0.8806 - val_loss: 0.2842 - val_accuracy: 0.8799\n",
            "Epoch 15/60\n",
            "72/72 [==============================] - 13s 185ms/step - loss: 0.2736 - accuracy: 0.8751 - val_loss: 0.2904 - val_accuracy: 0.8687\n",
            "Epoch 16/60\n",
            "72/72 [==============================] - 13s 182ms/step - loss: 0.2616 - accuracy: 0.8847 - val_loss: 0.2994 - val_accuracy: 0.8746\n",
            "Epoch 17/60\n",
            "72/72 [==============================] - 13s 183ms/step - loss: 0.2608 - accuracy: 0.8848 - val_loss: 0.2524 - val_accuracy: 0.8947\n",
            "Epoch 18/60\n",
            "72/72 [==============================] - 13s 184ms/step - loss: 0.2571 - accuracy: 0.8851 - val_loss: 0.2553 - val_accuracy: 0.8841\n",
            "Epoch 19/60\n",
            "72/72 [==============================] - 13s 183ms/step - loss: 0.2555 - accuracy: 0.8862 - val_loss: 0.4031 - val_accuracy: 0.8208\n",
            "Epoch 20/60\n",
            "72/72 [==============================] - 13s 184ms/step - loss: 0.2577 - accuracy: 0.8853 - val_loss: 0.3200 - val_accuracy: 0.8622\n",
            "Epoch 21/60\n",
            "72/72 [==============================] - 13s 184ms/step - loss: 0.2510 - accuracy: 0.8902 - val_loss: 0.2586 - val_accuracy: 0.8827\n",
            "Epoch 22/60\n",
            "72/72 [==============================] - 13s 183ms/step - loss: 0.2519 - accuracy: 0.8863 - val_loss: 0.2604 - val_accuracy: 0.8885\n",
            "Epoch 23/60\n",
            "72/72 [==============================] - 13s 184ms/step - loss: 0.2444 - accuracy: 0.8931 - val_loss: 0.2503 - val_accuracy: 0.8863\n",
            "Epoch 24/60\n",
            "72/72 [==============================] - 13s 184ms/step - loss: 0.2361 - accuracy: 0.8980 - val_loss: 0.3059 - val_accuracy: 0.8738\n",
            "Epoch 25/60\n",
            "72/72 [==============================] - 13s 182ms/step - loss: 0.2373 - accuracy: 0.8979 - val_loss: 0.2339 - val_accuracy: 0.8988\n",
            "Epoch 26/60\n",
            "72/72 [==============================] - 13s 182ms/step - loss: 0.2406 - accuracy: 0.8951 - val_loss: 0.2875 - val_accuracy: 0.8777\n",
            "Epoch 27/60\n",
            "72/72 [==============================] - 13s 182ms/step - loss: 0.2357 - accuracy: 0.8994 - val_loss: 0.2409 - val_accuracy: 0.8954\n",
            "Epoch 28/60\n",
            "72/72 [==============================] - 13s 183ms/step - loss: 0.2321 - accuracy: 0.8994 - val_loss: 0.2470 - val_accuracy: 0.8912\n",
            "Epoch 29/60\n",
            "72/72 [==============================] - 13s 182ms/step - loss: 0.2338 - accuracy: 0.9015 - val_loss: 0.2384 - val_accuracy: 0.8934\n",
            "Epoch 30/60\n",
            "72/72 [==============================] - 13s 181ms/step - loss: 0.2301 - accuracy: 0.9012 - val_loss: 0.2522 - val_accuracy: 0.8913\n",
            "Epoch 31/60\n",
            "72/72 [==============================] - 13s 183ms/step - loss: 0.2316 - accuracy: 0.8994 - val_loss: 0.2430 - val_accuracy: 0.8930\n",
            "Epoch 32/60\n",
            "72/72 [==============================] - 13s 183ms/step - loss: 0.2277 - accuracy: 0.8999 - val_loss: 0.2871 - val_accuracy: 0.8775\n",
            "Epoch 33/60\n",
            "72/72 [==============================] - 13s 183ms/step - loss: 0.2269 - accuracy: 0.8999 - val_loss: 0.2605 - val_accuracy: 0.8898\n",
            "Epoch 34/60\n",
            "72/72 [==============================] - 13s 182ms/step - loss: 0.2249 - accuracy: 0.9057 - val_loss: 0.2849 - val_accuracy: 0.8777\n",
            "Epoch 35/60\n",
            "72/72 [==============================] - 13s 182ms/step - loss: 0.2225 - accuracy: 0.9044 - val_loss: 0.2781 - val_accuracy: 0.8800\n",
            "Epoch 36/60\n",
            "72/72 [==============================] - 13s 183ms/step - loss: 0.2204 - accuracy: 0.9028 - val_loss: 0.2448 - val_accuracy: 0.8984\n",
            "Epoch 37/60\n",
            "72/72 [==============================] - 13s 182ms/step - loss: 0.2174 - accuracy: 0.9066 - val_loss: 0.3077 - val_accuracy: 0.8849\n",
            "Epoch 38/60\n",
            "72/72 [==============================] - 13s 184ms/step - loss: 0.2168 - accuracy: 0.9073 - val_loss: 0.3065 - val_accuracy: 0.8777\n",
            "Epoch 39/60\n",
            "72/72 [==============================] - 13s 183ms/step - loss: 0.2174 - accuracy: 0.9044 - val_loss: 0.2305 - val_accuracy: 0.8947\n",
            "Epoch 40/60\n",
            "72/72 [==============================] - 13s 184ms/step - loss: 0.2093 - accuracy: 0.9108 - val_loss: 0.2686 - val_accuracy: 0.8859\n",
            "Epoch 41/60\n",
            "72/72 [==============================] - 13s 181ms/step - loss: 0.2109 - accuracy: 0.9109 - val_loss: 0.3092 - val_accuracy: 0.8682\n",
            "Epoch 42/60\n",
            "72/72 [==============================] - 13s 182ms/step - loss: 0.2131 - accuracy: 0.9101 - val_loss: 0.3093 - val_accuracy: 0.8841\n",
            "Epoch 43/60\n",
            "72/72 [==============================] - 13s 183ms/step - loss: 0.2173 - accuracy: 0.9066 - val_loss: 0.2905 - val_accuracy: 0.8704\n",
            "INFO:tensorflow:Assets written to: gender_detect_model/assets\n",
            "186/186 [==============================] - 1s 4ms/step - loss: 0.2905 - accuracy: 0.8704\n",
            "[0.2905431389808655, 0.8704234957695007]\n",
            "Epoch 1/60\n",
            "72/72 [==============================] - 15s 195ms/step - loss: 2.0129 - accuracy: 0.2595 - val_loss: 2.5777 - val_accuracy: 0.1218\n",
            "Epoch 2/60\n",
            "72/72 [==============================] - 14s 191ms/step - loss: 1.6523 - accuracy: 0.3636 - val_loss: 5.0930 - val_accuracy: 0.1218\n",
            "Epoch 3/60\n",
            "72/72 [==============================] - 14s 194ms/step - loss: 1.5141 - accuracy: 0.4043 - val_loss: 7.4363 - val_accuracy: 0.1218\n",
            "Epoch 4/60\n",
            "72/72 [==============================] - 14s 191ms/step - loss: 1.4378 - accuracy: 0.4282 - val_loss: 7.8443 - val_accuracy: 0.1218\n",
            "Epoch 5/60\n",
            "72/72 [==============================] - 14s 189ms/step - loss: 1.3793 - accuracy: 0.4486 - val_loss: 7.9784 - val_accuracy: 0.1218\n",
            "Epoch 6/60\n",
            "72/72 [==============================] - 14s 193ms/step - loss: 1.3592 - accuracy: 0.4485 - val_loss: 6.1338 - val_accuracy: 0.1222\n",
            "Epoch 7/60\n",
            "72/72 [==============================] - 14s 189ms/step - loss: 1.3199 - accuracy: 0.4658 - val_loss: 5.6898 - val_accuracy: 0.1220\n",
            "Epoch 8/60\n",
            "72/72 [==============================] - 13s 188ms/step - loss: 1.2909 - accuracy: 0.4751 - val_loss: 2.3575 - val_accuracy: 0.2372\n",
            "Epoch 9/60\n",
            "72/72 [==============================] - 14s 190ms/step - loss: 1.2744 - accuracy: 0.4832 - val_loss: 1.9185 - val_accuracy: 0.3042\n",
            "Epoch 10/60\n",
            "72/72 [==============================] - 14s 194ms/step - loss: 1.2723 - accuracy: 0.4797 - val_loss: 1.3094 - val_accuracy: 0.4552\n",
            "Epoch 11/60\n",
            "72/72 [==============================] - 14s 194ms/step - loss: 1.2704 - accuracy: 0.4821 - val_loss: 2.2447 - val_accuracy: 0.2770\n",
            "Epoch 12/60\n",
            "72/72 [==============================] - 14s 189ms/step - loss: 1.2316 - accuracy: 0.4944 - val_loss: 1.3927 - val_accuracy: 0.4145\n",
            "Epoch 13/60\n",
            "72/72 [==============================] - 13s 187ms/step - loss: 1.2146 - accuracy: 0.5019 - val_loss: 1.2893 - val_accuracy: 0.4755\n",
            "Epoch 14/60\n",
            "72/72 [==============================] - 13s 186ms/step - loss: 1.2095 - accuracy: 0.5003 - val_loss: 1.6030 - val_accuracy: 0.3788\n",
            "Epoch 15/60\n",
            "72/72 [==============================] - 14s 188ms/step - loss: 1.1918 - accuracy: 0.5069 - val_loss: 1.7893 - val_accuracy: 0.3465\n",
            "Epoch 16/60\n",
            "72/72 [==============================] - 14s 187ms/step - loss: 1.1915 - accuracy: 0.5100 - val_loss: 1.2482 - val_accuracy: 0.4780\n",
            "Epoch 17/60\n",
            "72/72 [==============================] - 14s 188ms/step - loss: 1.1822 - accuracy: 0.5103 - val_loss: 1.5655 - val_accuracy: 0.4036\n",
            "Epoch 18/60\n",
            "72/72 [==============================] - 13s 187ms/step - loss: 1.1641 - accuracy: 0.5169 - val_loss: 1.5855 - val_accuracy: 0.4154\n",
            "Epoch 19/60\n",
            "72/72 [==============================] - 14s 188ms/step - loss: 1.1651 - accuracy: 0.5158 - val_loss: 1.2237 - val_accuracy: 0.4932\n",
            "Epoch 20/60\n",
            "72/72 [==============================] - 13s 185ms/step - loss: 1.1457 - accuracy: 0.5265 - val_loss: 1.3477 - val_accuracy: 0.4485\n",
            "Epoch 21/60\n",
            "72/72 [==============================] - 13s 187ms/step - loss: 1.1505 - accuracy: 0.5214 - val_loss: 1.8703 - val_accuracy: 0.3484\n",
            "Epoch 22/60\n",
            "72/72 [==============================] - 13s 185ms/step - loss: 1.1293 - accuracy: 0.5320 - val_loss: 1.2496 - val_accuracy: 0.4846\n",
            "Epoch 23/60\n",
            "72/72 [==============================] - 13s 186ms/step - loss: 1.1314 - accuracy: 0.5318 - val_loss: 2.8163 - val_accuracy: 0.3390\n",
            "Epoch 24/60\n",
            "72/72 [==============================] - 13s 185ms/step - loss: 1.1284 - accuracy: 0.5290 - val_loss: 1.3380 - val_accuracy: 0.4760\n",
            "Epoch 25/60\n",
            "72/72 [==============================] - 13s 185ms/step - loss: 1.1178 - accuracy: 0.5323 - val_loss: 1.2887 - val_accuracy: 0.4636\n",
            "Epoch 26/60\n",
            "72/72 [==============================] - 14s 187ms/step - loss: 1.1118 - accuracy: 0.5358 - val_loss: 1.3916 - val_accuracy: 0.4510\n",
            "Epoch 27/60\n",
            "72/72 [==============================] - 13s 186ms/step - loss: 1.1072 - accuracy: 0.5412 - val_loss: 1.2802 - val_accuracy: 0.4803\n",
            "Epoch 28/60\n",
            "72/72 [==============================] - 13s 183ms/step - loss: 1.0962 - accuracy: 0.5432 - val_loss: 1.4573 - val_accuracy: 0.4301\n",
            "Epoch 29/60\n",
            "72/72 [==============================] - 14s 194ms/step - loss: 1.0966 - accuracy: 0.5465 - val_loss: 1.4511 - val_accuracy: 0.4679\n",
            "Epoch 30/60\n",
            "72/72 [==============================] - 13s 184ms/step - loss: 1.0935 - accuracy: 0.5431 - val_loss: 1.5489 - val_accuracy: 0.4078\n",
            "Epoch 31/60\n",
            "72/72 [==============================] - 13s 184ms/step - loss: 1.0832 - accuracy: 0.5493 - val_loss: 1.2606 - val_accuracy: 0.4901\n",
            "Epoch 32/60\n",
            "72/72 [==============================] - 13s 186ms/step - loss: 1.0869 - accuracy: 0.5483 - val_loss: 1.1720 - val_accuracy: 0.5185\n",
            "Epoch 33/60\n",
            "72/72 [==============================] - 13s 183ms/step - loss: 1.0746 - accuracy: 0.5540 - val_loss: 1.1660 - val_accuracy: 0.5003\n",
            "Epoch 34/60\n",
            "72/72 [==============================] - 13s 185ms/step - loss: 1.0805 - accuracy: 0.5485 - val_loss: 1.1815 - val_accuracy: 0.5060\n",
            "Epoch 35/60\n",
            "72/72 [==============================] - 13s 185ms/step - loss: 1.0823 - accuracy: 0.5490 - val_loss: 1.2507 - val_accuracy: 0.4827\n",
            "Epoch 36/60\n",
            "72/72 [==============================] - 13s 184ms/step - loss: 1.0600 - accuracy: 0.5592 - val_loss: 1.4463 - val_accuracy: 0.4385\n",
            "Epoch 37/60\n",
            "72/72 [==============================] - 13s 183ms/step - loss: 1.0679 - accuracy: 0.5544 - val_loss: 1.5005 - val_accuracy: 0.4086\n",
            "Epoch 38/60\n",
            "72/72 [==============================] - 13s 182ms/step - loss: 1.0640 - accuracy: 0.5555 - val_loss: 1.2978 - val_accuracy: 0.4604\n",
            "Epoch 39/60\n",
            "72/72 [==============================] - 13s 186ms/step - loss: 1.0508 - accuracy: 0.5643 - val_loss: 1.2232 - val_accuracy: 0.5006\n",
            "Epoch 40/60\n",
            "72/72 [==============================] - 13s 185ms/step - loss: 1.0484 - accuracy: 0.5609 - val_loss: 1.2164 - val_accuracy: 0.5043\n",
            "Epoch 41/60\n",
            "72/72 [==============================] - 13s 187ms/step - loss: 1.0462 - accuracy: 0.5634 - val_loss: 1.2786 - val_accuracy: 0.4952\n",
            "Epoch 42/60\n",
            "72/72 [==============================] - 13s 183ms/step - loss: 1.0396 - accuracy: 0.5669 - val_loss: 1.5776 - val_accuracy: 0.4282\n",
            "Epoch 43/60\n",
            "72/72 [==============================] - 13s 184ms/step - loss: 1.0428 - accuracy: 0.5694 - val_loss: 1.2086 - val_accuracy: 0.4888\n",
            "Epoch 44/60\n",
            "72/72 [==============================] - 13s 184ms/step - loss: 1.0353 - accuracy: 0.5698 - val_loss: 1.1973 - val_accuracy: 0.5089\n",
            "Epoch 45/60\n",
            "72/72 [==============================] - 13s 185ms/step - loss: 1.0263 - accuracy: 0.5683 - val_loss: 1.2151 - val_accuracy: 0.4964\n",
            "Epoch 46/60\n",
            "72/72 [==============================] - 13s 185ms/step - loss: 1.0203 - accuracy: 0.5752 - val_loss: 1.2528 - val_accuracy: 0.4938\n",
            "Epoch 47/60\n",
            "72/72 [==============================] - 13s 186ms/step - loss: 1.0220 - accuracy: 0.5729 - val_loss: 1.4306 - val_accuracy: 0.4355\n",
            "Epoch 48/60\n",
            "72/72 [==============================] - 13s 185ms/step - loss: 1.0173 - accuracy: 0.5741 - val_loss: 1.5494 - val_accuracy: 0.4429\n",
            "Epoch 49/60\n",
            "72/72 [==============================] - 13s 183ms/step - loss: 1.0198 - accuracy: 0.5775 - val_loss: 1.8047 - val_accuracy: 0.3815\n",
            "Epoch 50/60\n",
            "72/72 [==============================] - 13s 184ms/step - loss: 1.0144 - accuracy: 0.5784 - val_loss: 1.2983 - val_accuracy: 0.4844\n",
            "Epoch 51/60\n",
            "72/72 [==============================] - 13s 184ms/step - loss: 1.0078 - accuracy: 0.5829 - val_loss: 1.2265 - val_accuracy: 0.4964\n",
            "Epoch 52/60\n",
            "72/72 [==============================] - 13s 184ms/step - loss: 0.9982 - accuracy: 0.5894 - val_loss: 1.2734 - val_accuracy: 0.4873\n",
            "Epoch 53/60\n",
            "72/72 [==============================] - 13s 186ms/step - loss: 0.9970 - accuracy: 0.5824 - val_loss: 1.1895 - val_accuracy: 0.4940\n",
            "Epoch 54/60\n",
            "72/72 [==============================] - 14s 187ms/step - loss: 0.9913 - accuracy: 0.5885 - val_loss: 1.2996 - val_accuracy: 0.4721\n",
            "Epoch 55/60\n",
            "72/72 [==============================] - 14s 187ms/step - loss: 0.9773 - accuracy: 0.5989 - val_loss: 1.3126 - val_accuracy: 0.4706\n",
            "Epoch 56/60\n",
            "72/72 [==============================] - 14s 188ms/step - loss: 0.9812 - accuracy: 0.5910 - val_loss: 1.4362 - val_accuracy: 0.4660\n",
            "Epoch 57/60\n",
            "72/72 [==============================] - 13s 186ms/step - loss: 0.9831 - accuracy: 0.5933 - val_loss: 1.2325 - val_accuracy: 0.5050\n",
            "Epoch 58/60\n",
            "72/72 [==============================] - 13s 187ms/step - loss: 0.9754 - accuracy: 0.5959 - val_loss: 1.2672 - val_accuracy: 0.5055\n",
            "Epoch 59/60\n",
            "72/72 [==============================] - 13s 186ms/step - loss: 0.9696 - accuracy: 0.5922 - val_loss: 1.2049 - val_accuracy: 0.5019\n",
            "Epoch 60/60\n",
            "72/72 [==============================] - 13s 185ms/step - loss: 0.9759 - accuracy: 0.5992 - val_loss: 1.2776 - val_accuracy: 0.4994\n",
            "INFO:tensorflow:Assets written to: age_detect_model/assets\n",
            "186/186 [==============================] - 1s 4ms/step - loss: 1.2776 - accuracy: 0.4994\n",
            "[1.27764892578125, 0.4994094967842102]\n"
          ],
          "name": "stdout"
        }
      ]
    },
    {
      "cell_type": "code",
      "metadata": {
        "id": "Xy3B0ul-LWlh"
      },
      "source": [
        "\n",
        "genderlabel=[\"Male\",\"Female\"]\n",
        "agelabel=[\"0-2\",\"3-8\",\"9-14\",\"15-20\",\"21-27\",\"28-35\",\"36-45\",\"46-59\",\"60+\"]\n",
        "from tensorflow.keras.models import load_model\n",
        "mod1=load_model(\"gender_detect_model\")\n",
        "mod2=load_model(\"age_detect_model\")"
      ],
      "execution_count": null,
      "outputs": []
    },
    {
      "cell_type": "code",
      "metadata": {
        "id": "0BWSc-fKqbWH"
      },
      "source": [
        "def js_to_image(js_reply):\n",
        "  \"\"\"\n",
        "  Params:\n",
        "          js_reply: JavaScript object containing image from webcam\n",
        "  Returns:\n",
        "          img: OpenCV BGR image\n",
        "  \"\"\"\n",
        "  # decode base64 image\n",
        "  image_bytes = b64decode(js_reply.split(',')[1])\n",
        "  # convert bytes to numpy array\n",
        "  jpg_as_np = np.frombuffer(image_bytes, dtype=np.uint8)\n",
        "  # decode numpy array into OpenCV BGR image\n",
        "  img = cv2.imdecode(jpg_as_np, flags=1)\n",
        "\n",
        "  return img\n",
        "\n",
        "# function to convert OpenCV Rectangle bounding box image into base64 byte string to be overlayed on video stream\n",
        "def bbox_to_bytes(bbox_array):\n",
        "  \"\"\"\n",
        "  Params:\n",
        "          bbox_array: Numpy array (pixels) containing rectangle to overlay on video stream.\n",
        "  Returns:\n",
        "        bytes: Base64 image byte string\n",
        "  \"\"\"\n",
        "  # convert array into PIL image\n",
        "  bbox_PIL = PIL.Image.fromarray(bbox_array, 'RGBA')\n",
        "  iobuf = io.BytesIO()\n",
        "  # format bbox into png for return\n",
        "  bbox_PIL.save(iobuf, format='png')\n",
        "  # format return string\n",
        "  bbox_bytes = 'data:image/png;base64,{}'.format((str(b64encode(iobuf.getvalue()), 'utf-8')))\n",
        "\n",
        "  return bbox_bytes"
      ],
      "execution_count": null,
      "outputs": []
    },
    {
      "cell_type": "code",
      "metadata": {
        "id": "gUApq0VtbigR"
      },
      "source": [
        "def take_photo(filename='photo.jpg', quality=0.8):\n",
        "  js = Javascript('''\n",
        "    async function takePhoto(quality) {\n",
        "      const div = document.createElement('div');\n",
        "      const capture = document.createElement('button');\n",
        "      capture.textContent = 'Capture';\n",
        "      div.appendChild(capture);\n",
        "\n",
        "      const video = document.createElement('video');\n",
        "      video.style.display = 'block';\n",
        "      const stream = await navigator.mediaDevices.getUserMedia({video: true});\n",
        "\n",
        "      document.body.appendChild(div);\n",
        "      div.appendChild(video);\n",
        "      video.srcObject = stream;\n",
        "      await video.play();\n",
        "\n",
        "      // Resize the output to fit the video element.\n",
        "      google.colab.output.setIframeHeight(document.documentElement.scrollHeight, true);\n",
        "\n",
        "      // Wait for Capture to be clicked.\n",
        "      await new Promise((resolve) => capture.onclick = resolve);\n",
        "\n",
        "      const canvas = document.createElement('canvas');\n",
        "      canvas.width = video.videoWidth;\n",
        "      canvas.height = video.videoHeight;\n",
        "      canvas.getContext('2d').drawImage(video, 0, 0);\n",
        "      stream.getVideoTracks()[0].stop();\n",
        "      div.remove();\n",
        "      return canvas.toDataURL('image/jpeg', quality);\n",
        "    }\n",
        "    ''')\n",
        "  display(js)\n",
        "  \n",
        "\n",
        "\n",
        "  data = eval_js('takePhoto({})'.format(quality))\n",
        "  img = js_to_image(data)\n",
        "  image =cv2.cvtColor(img, cv2.COLOR_BGR2RGB)\n",
        "  image=cv2.resize(img,(48,48))\n",
        "  faces = image.astype(np.float32) / 255.0\n",
        "  faces=img_to_array(faces)\n",
        "  faces = np.expand_dims(faces, axis=0)\n",
        "  ge=mod1.predict(faces)\n",
        "  ag=mod2.predict(faces)\n",
        "  ge =np.argmax(ge)\n",
        "  ag=np.argmax(ag)\n",
        "  ge=genderlabel[ge]\n",
        "  ag=agelabel[ag]\n",
        "  lab=ag+' '+ge\n",
        "  cv2.putText(img,lab,(55,20),cv2.FONT_HERSHEY_SIMPLEX,0.4, (255,0,0),2)\n",
        "  cv2.imwrite(filename,img)\n",
        "  return filename"
      ],
      "execution_count": null,
      "outputs": []
    },
    {
      "cell_type": "code",
      "metadata": {
        "id": "0eRbbeqGLR9-"
      },
      "source": [
        ""
      ],
      "execution_count": null,
      "outputs": []
    },
    {
      "cell_type": "code",
      "metadata": {
        "id": "HPsW8QzIbiqf",
        "colab": {
          "base_uri": "https://localhost:8080/",
          "height": 154
        },
        "outputId": "fb25d4cb-a7a8-4939-88a7-8d17a85644b8"
      },
      "source": [
        "filename = take_photo('age_gender_image.jpg')\n",
        "print('Saved to {}'.format(filename))\n",
        "display(Image(filename))"
      ],
      "execution_count": null,
      "outputs": [
        {
          "output_type": "display_data",
          "data": {
            "application/javascript": [
              "\n",
              "    async function takePhoto(quality) {\n",
              "      const div = document.createElement('div');\n",
              "      const capture = document.createElement('button');\n",
              "      capture.textContent = 'Capture';\n",
              "      div.appendChild(capture);\n",
              "\n",
              "      const video = document.createElement('video');\n",
              "      video.style.display = 'block';\n",
              "      const stream = await navigator.mediaDevices.getUserMedia({video: true});\n",
              "\n",
              "      document.body.appendChild(div);\n",
              "      div.appendChild(video);\n",
              "      video.srcObject = stream;\n",
              "      await video.play();\n",
              "\n",
              "      // Resize the output to fit the video element.\n",
              "      google.colab.output.setIframeHeight(document.documentElement.scrollHeight, true);\n",
              "\n",
              "      // Wait for Capture to be clicked.\n",
              "      await new Promise((resolve) => capture.onclick = resolve);\n",
              "\n",
              "      const canvas = document.createElement('canvas');\n",
              "      canvas.width = video.videoWidth;\n",
              "      canvas.height = video.videoHeight;\n",
              "      canvas.getContext('2d').drawImage(video, 0, 0);\n",
              "      stream.getVideoTracks()[0].stop();\n",
              "      div.remove();\n",
              "      return canvas.toDataURL('image/jpeg', quality);\n",
              "    }\n",
              "    "
            ],
            "text/plain": [
              "<IPython.core.display.Javascript object>"
            ]
          },
          "metadata": {
            "tags": []
          }
        },
        {
          "output_type": "stream",
          "text": [
            "Saved to age_gender_image.jpg\n"
          ],
          "name": "stdout"
        },
        {
          "output_type": "display_data",
          "data": {
            "image/jpeg": "[encoded data removed]",
            "text/plain": [
              "<IPython.core.display.Image object>"
            ]
          },
          "metadata": {
            "tags": []
          }
        }
      ]
    },
    {
      "cell_type": "code",
      "metadata": {
        "id": "DkKIfEaBhgwz"
      },
      "source": [
        ""
      ],
      "execution_count": null,
      "outputs": []
    }
  ]
}